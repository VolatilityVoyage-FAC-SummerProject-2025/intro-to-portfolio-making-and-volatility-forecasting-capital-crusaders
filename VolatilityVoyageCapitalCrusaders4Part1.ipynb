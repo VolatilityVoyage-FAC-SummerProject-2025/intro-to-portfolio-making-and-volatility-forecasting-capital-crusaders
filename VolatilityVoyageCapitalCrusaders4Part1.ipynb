{
 "cells": [
  {
   "cell_type": "code",
   "execution_count": 40,
   "id": "1cfe7da0",
   "metadata": {},
   "outputs": [],
   "source": [
    "import numpy as np\n",
    "import pandas as pd\n",
    "import matplotlib.pyplot as plt\n",
    "import yfinance as yf"
   ]
  },
  {
   "cell_type": "markdown",
   "id": "2287dc91",
   "metadata": {},
   "source": [
    "Data Import and calculation of key metrics"
   ]
  },
  {
   "cell_type": "code",
   "execution_count": 41,
   "id": "3e0ff768",
   "metadata": {},
   "outputs": [
    {
     "name": "stderr",
     "output_type": "stream",
     "text": [
      "[*********************100%***********************]  3 of 3 completed\n"
     ]
    },
    {
     "data": {
      "text/html": [
       "<div>\n",
       "<style scoped>\n",
       "    .dataframe tbody tr th:only-of-type {\n",
       "        vertical-align: middle;\n",
       "    }\n",
       "\n",
       "    .dataframe tbody tr th {\n",
       "        vertical-align: top;\n",
       "    }\n",
       "\n",
       "    .dataframe thead th {\n",
       "        text-align: right;\n",
       "    }\n",
       "</style>\n",
       "<table border=\"1\" class=\"dataframe\">\n",
       "  <thead>\n",
       "    <tr style=\"text-align: right;\">\n",
       "      <th>Ticker</th>\n",
       "      <th>HDFCBANK.NS</th>\n",
       "      <th>RELIANCE.NS</th>\n",
       "      <th>TCS.NS</th>\n",
       "    </tr>\n",
       "    <tr>\n",
       "      <th>Date</th>\n",
       "      <th></th>\n",
       "      <th></th>\n",
       "      <th></th>\n",
       "    </tr>\n",
       "  </thead>\n",
       "  <tbody>\n",
       "    <tr>\n",
       "      <th>2020-02-01</th>\n",
       "      <td>-0.039672</td>\n",
       "      <td>-0.058797</td>\n",
       "      <td>-0.035765</td>\n",
       "    </tr>\n",
       "    <tr>\n",
       "      <th>2020-03-01</th>\n",
       "      <td>-0.268119</td>\n",
       "      <td>-0.161743</td>\n",
       "      <td>-0.087019</td>\n",
       "    </tr>\n",
       "    <tr>\n",
       "      <th>2020-04-01</th>\n",
       "      <td>0.162316</td>\n",
       "      <td>0.316274</td>\n",
       "      <td>0.111203</td>\n",
       "    </tr>\n",
       "    <tr>\n",
       "      <th>2020-05-01</th>\n",
       "      <td>-0.050060</td>\n",
       "      <td>0.008377</td>\n",
       "      <td>-0.020899</td>\n",
       "    </tr>\n",
       "    <tr>\n",
       "      <th>2020-06-01</th>\n",
       "      <td>0.120002</td>\n",
       "      <td>0.163685</td>\n",
       "      <td>0.055670</td>\n",
       "    </tr>\n",
       "    <tr>\n",
       "      <th>2020-07-01</th>\n",
       "      <td>-0.031008</td>\n",
       "      <td>0.213016</td>\n",
       "      <td>0.098915</td>\n",
       "    </tr>\n",
       "    <tr>\n",
       "      <th>2020-08-01</th>\n",
       "      <td>0.080413</td>\n",
       "      <td>0.006579</td>\n",
       "      <td>-0.008366</td>\n",
       "    </tr>\n",
       "    <tr>\n",
       "      <th>2020-09-01</th>\n",
       "      <td>-0.033383</td>\n",
       "      <td>0.073845</td>\n",
       "      <td>0.104131</td>\n",
       "    </tr>\n",
       "    <tr>\n",
       "      <th>2020-10-01</th>\n",
       "      <td>0.097302</td>\n",
       "      <td>-0.080493</td>\n",
       "      <td>0.069233</td>\n",
       "    </tr>\n",
       "    <tr>\n",
       "      <th>2020-11-01</th>\n",
       "      <td>0.217397</td>\n",
       "      <td>-0.060696</td>\n",
       "      <td>0.009841</td>\n",
       "    </tr>\n",
       "    <tr>\n",
       "      <th>2020-12-01</th>\n",
       "      <td>-0.003158</td>\n",
       "      <td>0.028759</td>\n",
       "      <td>0.068330</td>\n",
       "    </tr>\n",
       "    <tr>\n",
       "      <th>2021-01-01</th>\n",
       "      <td>-0.031888</td>\n",
       "      <td>-0.072206</td>\n",
       "      <td>0.086840</td>\n",
       "    </tr>\n",
       "    <tr>\n",
       "      <th>2021-02-01</th>\n",
       "      <td>0.103488</td>\n",
       "      <td>0.132387</td>\n",
       "      <td>-0.067990</td>\n",
       "    </tr>\n",
       "    <tr>\n",
       "      <th>2021-03-01</th>\n",
       "      <td>-0.026558</td>\n",
       "      <td>-0.039649</td>\n",
       "      <td>0.097968</td>\n",
       "    </tr>\n",
       "    <tr>\n",
       "      <th>2021-04-01</th>\n",
       "      <td>-0.054464</td>\n",
       "      <td>-0.004293</td>\n",
       "      <td>-0.044747</td>\n",
       "    </tr>\n",
       "    <tr>\n",
       "      <th>2021-05-01</th>\n",
       "      <td>0.073320</td>\n",
       "      <td>0.083129</td>\n",
       "      <td>0.040683</td>\n",
       "    </tr>\n",
       "    <tr>\n",
       "      <th>2021-06-01</th>\n",
       "      <td>-0.011842</td>\n",
       "      <td>-0.022983</td>\n",
       "      <td>0.064247</td>\n",
       "    </tr>\n",
       "    <tr>\n",
       "      <th>2021-07-01</th>\n",
       "      <td>-0.043579</td>\n",
       "      <td>-0.032338</td>\n",
       "      <td>-0.053292</td>\n",
       "    </tr>\n",
       "    <tr>\n",
       "      <th>2021-08-01</th>\n",
       "      <td>0.108626</td>\n",
       "      <td>0.109492</td>\n",
       "      <td>0.198034</td>\n",
       "    </tr>\n",
       "    <tr>\n",
       "      <th>2021-09-01</th>\n",
       "      <td>0.008568</td>\n",
       "      <td>0.115626</td>\n",
       "      <td>-0.002879</td>\n",
       "    </tr>\n",
       "    <tr>\n",
       "      <th>2021-10-01</th>\n",
       "      <td>-0.007586</td>\n",
       "      <td>0.006748</td>\n",
       "      <td>-0.100065</td>\n",
       "    </tr>\n",
       "    <tr>\n",
       "      <th>2021-11-01</th>\n",
       "      <td>-0.056417</td>\n",
       "      <td>-0.051592</td>\n",
       "      <td>0.040666</td>\n",
       "    </tr>\n",
       "    <tr>\n",
       "      <th>2021-12-01</th>\n",
       "      <td>-0.009474</td>\n",
       "      <td>-0.015486</td>\n",
       "      <td>0.059278</td>\n",
       "    </tr>\n",
       "    <tr>\n",
       "      <th>2022-01-01</th>\n",
       "      <td>0.004258</td>\n",
       "      <td>0.007791</td>\n",
       "      <td>-0.000562</td>\n",
       "    </tr>\n",
       "    <tr>\n",
       "      <th>2022-02-01</th>\n",
       "      <td>-0.040015</td>\n",
       "      <td>-0.011334</td>\n",
       "      <td>-0.047054</td>\n",
       "    </tr>\n",
       "    <tr>\n",
       "      <th>2022-03-01</th>\n",
       "      <td>0.030920</td>\n",
       "      <td>0.116633</td>\n",
       "      <td>0.052262</td>\n",
       "    </tr>\n",
       "    <tr>\n",
       "      <th>2022-04-01</th>\n",
       "      <td>-0.058319</td>\n",
       "      <td>0.059019</td>\n",
       "      <td>-0.051672</td>\n",
       "    </tr>\n",
       "    <tr>\n",
       "      <th>2022-05-01</th>\n",
       "      <td>0.003142</td>\n",
       "      <td>-0.056483</td>\n",
       "      <td>-0.051414</td>\n",
       "    </tr>\n",
       "    <tr>\n",
       "      <th>2022-06-01</th>\n",
       "      <td>-0.018198</td>\n",
       "      <td>-0.014054</td>\n",
       "      <td>-0.022365</td>\n",
       "    </tr>\n",
       "    <tr>\n",
       "      <th>2022-07-01</th>\n",
       "      <td>0.063946</td>\n",
       "      <td>-0.033209</td>\n",
       "      <td>0.010652</td>\n",
       "    </tr>\n",
       "    <tr>\n",
       "      <th>2022-08-01</th>\n",
       "      <td>0.036187</td>\n",
       "      <td>0.051206</td>\n",
       "      <td>-0.024917</td>\n",
       "    </tr>\n",
       "    <tr>\n",
       "      <th>2022-09-01</th>\n",
       "      <td>-0.043570</td>\n",
       "      <td>-0.095696</td>\n",
       "      <td>-0.064338</td>\n",
       "    </tr>\n",
       "    <tr>\n",
       "      <th>2022-10-01</th>\n",
       "      <td>0.053013</td>\n",
       "      <td>0.072274</td>\n",
       "      <td>0.062771</td>\n",
       "    </tr>\n",
       "    <tr>\n",
       "      <th>2022-11-01</th>\n",
       "      <td>0.074664</td>\n",
       "      <td>0.071286</td>\n",
       "      <td>0.064646</td>\n",
       "    </tr>\n",
       "    <tr>\n",
       "      <th>2022-12-01</th>\n",
       "      <td>0.012248</td>\n",
       "      <td>-0.067421</td>\n",
       "      <td>-0.039548</td>\n",
       "    </tr>\n",
       "    <tr>\n",
       "      <th>2023-01-01</th>\n",
       "      <td>-0.015140</td>\n",
       "      <td>-0.075907</td>\n",
       "      <td>0.031320</td>\n",
       "    </tr>\n",
       "    <tr>\n",
       "      <th>2023-02-01</th>\n",
       "      <td>-0.002432</td>\n",
       "      <td>-0.013297</td>\n",
       "      <td>-0.011307</td>\n",
       "    </tr>\n",
       "    <tr>\n",
       "      <th>2023-03-01</th>\n",
       "      <td>0.006220</td>\n",
       "      <td>0.003660</td>\n",
       "      <td>-0.032283</td>\n",
       "    </tr>\n",
       "    <tr>\n",
       "      <th>2023-04-01</th>\n",
       "      <td>0.048492</td>\n",
       "      <td>0.038373</td>\n",
       "      <td>0.004164</td>\n",
       "    </tr>\n",
       "    <tr>\n",
       "      <th>2023-05-01</th>\n",
       "      <td>-0.045479</td>\n",
       "      <td>0.020409</td>\n",
       "      <td>0.021822</td>\n",
       "    </tr>\n",
       "  </tbody>\n",
       "</table>\n",
       "</div>"
      ],
      "text/plain": [
       "Ticker      HDFCBANK.NS  RELIANCE.NS    TCS.NS\n",
       "Date                                          \n",
       "2020-02-01    -0.039672    -0.058797 -0.035765\n",
       "2020-03-01    -0.268119    -0.161743 -0.087019\n",
       "2020-04-01     0.162316     0.316274  0.111203\n",
       "2020-05-01    -0.050060     0.008377 -0.020899\n",
       "2020-06-01     0.120002     0.163685  0.055670\n",
       "2020-07-01    -0.031008     0.213016  0.098915\n",
       "2020-08-01     0.080413     0.006579 -0.008366\n",
       "2020-09-01    -0.033383     0.073845  0.104131\n",
       "2020-10-01     0.097302    -0.080493  0.069233\n",
       "2020-11-01     0.217397    -0.060696  0.009841\n",
       "2020-12-01    -0.003158     0.028759  0.068330\n",
       "2021-01-01    -0.031888    -0.072206  0.086840\n",
       "2021-02-01     0.103488     0.132387 -0.067990\n",
       "2021-03-01    -0.026558    -0.039649  0.097968\n",
       "2021-04-01    -0.054464    -0.004293 -0.044747\n",
       "2021-05-01     0.073320     0.083129  0.040683\n",
       "2021-06-01    -0.011842    -0.022983  0.064247\n",
       "2021-07-01    -0.043579    -0.032338 -0.053292\n",
       "2021-08-01     0.108626     0.109492  0.198034\n",
       "2021-09-01     0.008568     0.115626 -0.002879\n",
       "2021-10-01    -0.007586     0.006748 -0.100065\n",
       "2021-11-01    -0.056417    -0.051592  0.040666\n",
       "2021-12-01    -0.009474    -0.015486  0.059278\n",
       "2022-01-01     0.004258     0.007791 -0.000562\n",
       "2022-02-01    -0.040015    -0.011334 -0.047054\n",
       "2022-03-01     0.030920     0.116633  0.052262\n",
       "2022-04-01    -0.058319     0.059019 -0.051672\n",
       "2022-05-01     0.003142    -0.056483 -0.051414\n",
       "2022-06-01    -0.018198    -0.014054 -0.022365\n",
       "2022-07-01     0.063946    -0.033209  0.010652\n",
       "2022-08-01     0.036187     0.051206 -0.024917\n",
       "2022-09-01    -0.043570    -0.095696 -0.064338\n",
       "2022-10-01     0.053013     0.072274  0.062771\n",
       "2022-11-01     0.074664     0.071286  0.064646\n",
       "2022-12-01     0.012248    -0.067421 -0.039548\n",
       "2023-01-01    -0.015140    -0.075907  0.031320\n",
       "2023-02-01    -0.002432    -0.013297 -0.011307\n",
       "2023-03-01     0.006220     0.003660 -0.032283\n",
       "2023-04-01     0.048492     0.038373  0.004164\n",
       "2023-05-01    -0.045479     0.020409  0.021822"
      ]
     },
     "execution_count": 41,
     "metadata": {},
     "output_type": "execute_result"
    }
   ],
   "source": [
    "tickers,start,end = ['HDFCBANK.NS','TCS.NS','RELIANCE.NS'],'2020-01-01','2023-06-01'\n",
    "\n",
    "data = yf.download(tickers,start=start,end=end,interval='1mo')['Close'] #yf adjusts close by default\n",
    "returns = data.pct_change().dropna()\n",
    "\n",
    "returns"
   ]
  },
  {
   "cell_type": "code",
   "execution_count": 42,
   "id": "814d828e",
   "metadata": {},
   "outputs": [
    {
     "data": {
      "text/html": [
       "<div>\n",
       "<style scoped>\n",
       "    .dataframe tbody tr th:only-of-type {\n",
       "        vertical-align: middle;\n",
       "    }\n",
       "\n",
       "    .dataframe tbody tr th {\n",
       "        vertical-align: top;\n",
       "    }\n",
       "\n",
       "    .dataframe thead th {\n",
       "        text-align: right;\n",
       "    }\n",
       "</style>\n",
       "<table border=\"1\" class=\"dataframe\">\n",
       "  <thead>\n",
       "    <tr style=\"text-align: right;\">\n",
       "      <th></th>\n",
       "      <th>mean_return</th>\n",
       "      <th>std.</th>\n",
       "    </tr>\n",
       "    <tr>\n",
       "      <th>Ticker</th>\n",
       "      <th></th>\n",
       "      <th></th>\n",
       "    </tr>\n",
       "  </thead>\n",
       "  <tbody>\n",
       "    <tr>\n",
       "      <th>HDFCBANK.NS</th>\n",
       "      <td>0.010354</td>\n",
       "      <td>0.078865</td>\n",
       "    </tr>\n",
       "    <tr>\n",
       "      <th>RELIANCE.NS</th>\n",
       "      <td>0.018272</td>\n",
       "      <td>0.090918</td>\n",
       "    </tr>\n",
       "    <tr>\n",
       "      <th>TCS.NS</th>\n",
       "      <td>0.014655</td>\n",
       "      <td>0.064286</td>\n",
       "    </tr>\n",
       "  </tbody>\n",
       "</table>\n",
       "</div>"
      ],
      "text/plain": [
       "             mean_return      std.\n",
       "Ticker                            \n",
       "HDFCBANK.NS     0.010354  0.078865\n",
       "RELIANCE.NS     0.018272  0.090918\n",
       "TCS.NS          0.014655  0.064286"
      ]
     },
     "execution_count": 42,
     "metadata": {},
     "output_type": "execute_result"
    }
   ],
   "source": [
    "return_risk = pd.concat((returns.mean(axis=0),returns.std()),axis=1)#Expected Return and std.\n",
    "return_risk.columns = ['mean_return','std.']\n",
    "return_risk"
   ]
  },
  {
   "cell_type": "code",
   "execution_count": 43,
   "id": "fc3831e9",
   "metadata": {},
   "outputs": [
    {
     "data": {
      "text/html": [
       "<div>\n",
       "<style scoped>\n",
       "    .dataframe tbody tr th:only-of-type {\n",
       "        vertical-align: middle;\n",
       "    }\n",
       "\n",
       "    .dataframe tbody tr th {\n",
       "        vertical-align: top;\n",
       "    }\n",
       "\n",
       "    .dataframe thead th {\n",
       "        text-align: right;\n",
       "    }\n",
       "</style>\n",
       "<table border=\"1\" class=\"dataframe\">\n",
       "  <thead>\n",
       "    <tr style=\"text-align: right;\">\n",
       "      <th>Ticker</th>\n",
       "      <th>HDFCBANK.NS</th>\n",
       "      <th>RELIANCE.NS</th>\n",
       "      <th>TCS.NS</th>\n",
       "    </tr>\n",
       "    <tr>\n",
       "      <th>Ticker</th>\n",
       "      <th></th>\n",
       "      <th></th>\n",
       "      <th></th>\n",
       "    </tr>\n",
       "  </thead>\n",
       "  <tbody>\n",
       "    <tr>\n",
       "      <th>HDFCBANK.NS</th>\n",
       "      <td>0.006220</td>\n",
       "      <td>0.003464</td>\n",
       "      <td>0.001934</td>\n",
       "    </tr>\n",
       "    <tr>\n",
       "      <th>RELIANCE.NS</th>\n",
       "      <td>0.003464</td>\n",
       "      <td>0.008266</td>\n",
       "      <td>0.002507</td>\n",
       "    </tr>\n",
       "    <tr>\n",
       "      <th>TCS.NS</th>\n",
       "      <td>0.001934</td>\n",
       "      <td>0.002507</td>\n",
       "      <td>0.004133</td>\n",
       "    </tr>\n",
       "  </tbody>\n",
       "</table>\n",
       "</div>"
      ],
      "text/plain": [
       "Ticker       HDFCBANK.NS  RELIANCE.NS    TCS.NS\n",
       "Ticker                                         \n",
       "HDFCBANK.NS     0.006220     0.003464  0.001934\n",
       "RELIANCE.NS     0.003464     0.008266  0.002507\n",
       "TCS.NS          0.001934     0.002507  0.004133"
      ]
     },
     "execution_count": 43,
     "metadata": {},
     "output_type": "execute_result"
    }
   ],
   "source": [
    "cov_matrix = returns.cov()\n",
    "cov_matrix"
   ]
  },
  {
   "cell_type": "markdown",
   "id": "24b32a3e",
   "metadata": {},
   "source": [
    "Five Portfolios"
   ]
  },
  {
   "cell_type": "code",
   "execution_count": 44,
   "id": "c7d76ee2",
   "metadata": {},
   "outputs": [],
   "source": [
    "r = 0.005 #monthly risk-free rate of 0.5%"
   ]
  },
  {
   "cell_type": "code",
   "execution_count": 45,
   "id": "2f94133f",
   "metadata": {},
   "outputs": [
    {
     "data": {
      "text/plain": [
       "array([[0.59832984, 0.2501214 , 0.15154876],\n",
       "       [0.06291854, 0.43884179, 0.49823967],\n",
       "       [0.40343477, 0.18266733, 0.4138979 ],\n",
       "       [0.30290991, 0.3902682 , 0.30682189],\n",
       "       [0.39529595, 0.33687234, 0.26783171]])"
      ]
     },
     "metadata": {},
     "output_type": "display_data"
    },
    {
     "data": {
      "text/plain": [
       "array([1., 1., 1., 1., 1.])"
      ]
     },
     "metadata": {},
     "output_type": "display_data"
    }
   ],
   "source": [
    "#Generating 5 random arrays of size 3 and normalising each row\n",
    "weights = np.random.random((5,3))\n",
    "weights /= weights.sum(axis=1)[:,np.newaxis] \n",
    "display(weights)\n",
    "display(weights.sum(axis=1))"
   ]
  },
  {
   "cell_type": "markdown",
   "id": "f32e1195",
   "metadata": {},
   "source": [
    "The expected returns array for various portfolios is simply $W \\mu \\in \\mathbb{R}^5$\n",
    "\n",
    "$\\mu \\in \\mathbb{R}^3$ being the expected returns array for the 3 stocks\n",
    "\n",
    "In order to calculate variance for each portfolio i.e row $w_i$ of the matrix $W$, given $\\Sigma$ is the 3x3 covariance matrix we compute \n",
    "\n",
    "$Var(R_i)=w_i^T \\Sigma w_i \\in \\mathbb{R}$  \n",
    "\n",
    "for each $i=1,2...5$\n",
    "\n",
    "Note: We call this a quadratic form.\n",
    "\n",
    "With the logic of Matrix multplication we can use\n",
    "\n",
    "$Var(R) = diag(W \\Sigma W^T) \\in \\mathbb{R}^5$"
   ]
  },
  {
   "cell_type": "code",
   "execution_count": 46,
   "id": "e503593d",
   "metadata": {},
   "outputs": [
    {
     "data": {
      "text/plain": [
       "array([0.01298637, 0.01597173, 0.01358056, 0.01476387, 0.01417338])"
      ]
     },
     "metadata": {},
     "output_type": "display_data"
    },
    {
     "data": {
      "text/plain": [
       "array([0.06645489, 0.06365103, 0.0594283 , 0.06322714, 0.06317347])"
      ]
     },
     "metadata": {},
     "output_type": "display_data"
    }
   ],
   "source": [
    "portfolio_returns = weights@return_risk['mean_return'].values\n",
    "portfolio_std = np.sqrt(np.diag(weights@cov_matrix.values@weights.T))\n",
    "display(portfolio_returns)\n",
    "display(portfolio_std)"
   ]
  },
  {
   "cell_type": "code",
   "execution_count": 47,
   "id": "640df641",
   "metadata": {},
   "outputs": [
    {
     "data": {
      "text/plain": [
       "array([0.41630628, 0.5971183 , 0.50016474, 0.53494497, 0.50302024])"
      ]
     },
     "execution_count": 47,
     "metadata": {},
     "output_type": "execute_result"
    }
   ],
   "source": [
    "sharpe = ((portfolio_returns-r)/portfolio_std)*12**0.5 #annualising based on monthly returns data\n",
    "sharpe"
   ]
  },
  {
   "cell_type": "code",
   "execution_count": 48,
   "id": "a5e1371f",
   "metadata": {},
   "outputs": [
    {
     "data": {
      "image/png": "[encoded data removed]",
      "text/plain": [
       "<Figure size 640x480 with 1 Axes>"
      ]
     },
     "metadata": {},
     "output_type": "display_data"
    }
   ],
   "source": [
    "plt.scatter(portfolio_std,portfolio_returns)\n",
    "plt.scatter(return_risk['std.'].values,return_risk['mean_return'].values,c='red')\n",
    "plt.xlabel('Risk')\n",
    "plt.ylabel('Expected Return')\n",
    "plt.title('Risk vs Mean Returns')\n",
    "plt.show()"
   ]
  },
  {
   "cell_type": "code",
   "execution_count": 49,
   "id": "4739fd54",
   "metadata": {},
   "outputs": [
    {
     "name": "stdout",
     "output_type": "stream",
     "text": [
      "Tangency Weights: [0.06291854 0.43884179 0.49823967]\n",
      "Min Variance Weights: [0.40343477 0.18266733 0.4138979 ]\n"
     ]
    },
    {
     "data": {
      "image/png": "[encoded data removed]",
      "text/plain": [
       "<Figure size 640x480 with 1 Axes>"
      ]
     },
     "metadata": {},
     "output_type": "display_data"
    }
   ],
   "source": [
    "tangency = np.argmax(sharpe)\n",
    "min_variance = np.argmin(portfolio_std)\n",
    "\n",
    "print(\"Tangency Weights:\", weights[tangency])\n",
    "print(\"Min Variance Weights:\", weights[min_variance])\n",
    "\n",
    "x = [0, portfolio_std[min_variance], portfolio_std[tangency]]\n",
    "y = [r, portfolio_returns[min_variance], portfolio_returns[tangency]]\n",
    "\n",
    "plt.scatter(x, y, c=['green', 'cyan', 'gold'], marker='o', s=120)\n",
    "plt.text(0, r, 'Risk-Free', ha='right', va='bottom')\n",
    "plt.text(x[1], y[1], 'Min Var', ha='right', va='bottom')\n",
    "plt.text(x[2], y[2], 'Tangency', ha='left', va='bottom')\n",
    "plt.xlabel('Risk (Std)')\n",
    "plt.ylabel('Expected Return')\n",
    "plt.title('Efficient Portfolios and Risk-Free Asset')\n",
    "plt.grid(True)\n",
    "plt.show()"
   ]
  }
 ],
 "metadata": {
  "kernelspec": {
   "display_name": "Python 3",
   "language": "python",
   "name": "python3"
  },
  "language_info": {
   "codemirror_mode": {
    "name": "ipython",
    "version": 3
   },
   "file_extension": ".py",
   "mimetype": "text/x-python",
   "name": "python",
   "nbconvert_exporter": "python",
   "pygments_lexer": "ipython3",
   "version": "3.13.1"
  }
 },
 "nbformat": 4,
 "nbformat_minor": 5
}
